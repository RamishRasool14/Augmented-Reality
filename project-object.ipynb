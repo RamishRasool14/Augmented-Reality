{
 "cells": [
  {
   "cell_type": "markdown",
   "metadata": {},
   "source": [
    "## Task 1\n",
    "Caliberate camera using checkerboard pattern to extract camera matrix K, distortion coefficients distCoeffs and rotation and translation vectors rvec, tvec."
   ]
  },
  {
   "cell_type": "code",
   "execution_count": 73,
   "metadata": {},
   "outputs": [],
   "source": [
    "import cv2\n",
    "from matplotlib import pyplot as plt\n",
    "import numpy as np\n",
    "import os\n",
    "from glob import glob\n",
    "\n",
    "def helper(\n",
    "    X, Y, Z, x, y\n",
    "):  # helper function to stack and get C matrix in explanation.png\n",
    "    row1 = np.array([X, Y, Z, 1, 0, 0, 0, 0, -x * X, -x * Y, -x * Z, -x])\n",
    "    row2 = np.array([0, 0, 0, 0, X, Y, Z, 1, -y * X, -y * Y, -y * Z, -y])\n",
    "    return np.vstack((row1, row2))\n",
    "\n",
    "\n",
    "def myRQ(matrix):  # QR decomposition\n",
    "    Q, L = np.linalg.qr(np.linalg.inv(matrix))\n",
    "    K, R = np.linalg.inv(L), Q.T\n",
    "    K = K / K[2, 2]\n",
    "    return K, R\n",
    "\n",
    "\n",
    "# This function assumes you know the maths behind camera calibration\n",
    "def get_KRP(img_coord, world_coord):\n",
    "    x = img_coord[:, 0]  # extract x coordinates from image\n",
    "    y = img_coord[:, 1]  # extract y coordinates from image\n",
    "\n",
    "    X = world_coord[:, 0]  # extract X coordinates from real world cordiantes\n",
    "    Y = world_coord[:, 1]  # extract Y coordinates from real world cordiantes\n",
    "    Z = world_coord[:, 2]  # extract Z coordinates from real world cordiantes\n",
    "\n",
    "    matrix = helper(\n",
    "        X[0], Y[0], Z[0], x[0], y[0]\n",
    "    )  # stacking the rows of the matrix to create C matrix in explanation.png\n",
    "    for i in range(1, len(X)):\n",
    "        to_append = helper(X[i], Y[i], Z[i], x[i], y[i])\n",
    "        matrix = np.append(\n",
    "            matrix, to_append, axis=0\n",
    "        )  # matrix variable corresponds to C matrix in explanation.png\n",
    "\n",
    "    u, s, vh = np.linalg.svd(matrix)  # SVD of C matrix\n",
    "    P = vh[-1].reshape(\n",
    "        3, 4\n",
    "    )  # taking the last row of V^T and reshaping it to 3x4 matrix gives the Projection matrix P\n",
    "\n",
    "    XYZ = np.vstack((X, Y))\n",
    "    XYZ = np.vstack((XYZ, Z))\n",
    "    XYZ = np.vstack(\n",
    "        (XYZ, np.ones(X.shape))\n",
    "    )  # Stacking the X, Y, Z, 1 to create homogenous coordinates\n",
    "\n",
    "    xyz = P.dot(\n",
    "        XYZ\n",
    "    )  # multiplying P with homogenous coordinates to get the image coordinates for testing purposes to see if they are close to the original image coordinates\n",
    "    xy_pred = (xyz / (xyz[2, :]))[\n",
    "        0:2, :\n",
    "    ]  # dividing by the last row to get the image coordinates\n",
    "    xy = np.vstack(\n",
    "        (x, y)\n",
    "    )  # stacking the original image coordinates to compare with the predicted image coordinates\n",
    "\n",
    "    distance = np.linalg.norm(\n",
    "        xy - xy_pred\n",
    "    )  # calculating the distance between the predicted image coordinates and the original image coordinates to get error\n",
    "\n",
    "    K, R = myRQ(\n",
    "        P[0:3, 0:3]\n",
    "    )  # using myRQ function to decompose P into K and R matrices using QR decomposition\n",
    "\n",
    "    return K, R, P\n",
    "\n",
    "def frame_to_video(folder, output, fps=30):\n",
    "    img = cv2.imread(os.path.join(folder, \"frame1.jpg\"))\n",
    "    total_frames = len(os.listdir(folder))\n",
    "    height, width, layers = img.shape\n",
    "    size = (width, height)\n",
    "    out = cv2.VideoWriter(output, cv2.VideoWriter_fourcc(*\"mp4v\"), fps, size)\n",
    "    for x in range(total_frames):\n",
    "        img = cv2.imread(os.path.join(folder, \"frame{}.jpg\".format(x)))\n",
    "        out.write(img)\n",
    "    out.release()\n",
    "\n",
    "def video_to_frames(video, folder):\n",
    "    vidcap = cv2.VideoCapture(video)\n",
    "    success, image = vidcap.read()\n",
    "    count = 0\n",
    "    while success:\n",
    "        # rotate image by 180 degrees\n",
    "        image = cv2.rotate(image, cv2.ROTATE_180)\n",
    "        cv2.imwrite(os.path.join(folder, \"frame%d.jpg\") % count, image)\n",
    "        success, image = vidcap.read()\n",
    "        count += 1"
   ]
  },
  {
   "cell_type": "code",
   "execution_count": 63,
   "metadata": {},
   "outputs": [
    {
     "name": "stdout",
     "output_type": "stream",
     "text": [
      "Perspective 1, k1 = -1986.7130780262773, k2 = -1946.7711057068045, k3 = 1.0, p1 = 524.1785665102414, p2 = 1028.6017921451937\n",
      "Perspective 2, k1 = -1986.4402792210503, k2 = -1946.0184292206561, k3 = 1.0, p1 = 523.2739163226875, p2 = 1027.7845284665448\n",
      "Perspective 3, k1 = -1989.706154836041, k2 = -1948.8908070121145, k3 = 1.0, p1 = 523.4412929663148, p2 = 1027.1215484315258\n",
      "Perspective 4, k1 = -1987.5343802109105, k2 = -1946.6356454374145, k3 = 1.0, p1 = 524.4883569187265, p2 = 1024.3532236198255\n",
      "Perspective 5, k1 = -1985.3412146427843, k2 = -1944.8604526294957, k3 = 1.0, p1 = 529.059047368865, p2 = 1024.6974532974934\n",
      "Perspective 6, k1 = -1986.0742057968207, k2 = -1944.5007003450214, k3 = 1.0, p1 = 527.2492176631737, p2 = 1027.8870348548087\n",
      "Perspective 7, k1 = -1988.9747772667586, k2 = -1947.3037591985703, k3 = 1.0, p1 = 531.9321387732732, p2 = 1028.8289421761306\n",
      "Perspective 8, k1 = -1989.691695423917, k2 = -1948.3221310442755, k3 = 1.0, p1 = 533.6667676219189, p2 = 1032.9738338310585\n"
     ]
    }
   ],
   "source": [
    "CHECKERBOARD = (7,10)\n",
    "criteria = (cv2.TERM_CRITERIA_EPS + cv2.TERM_CRITERIA_MAX_ITER, 30, 0.001)\n",
    "\n",
    "real_world_cordinate = [(i%7,i//7,0) for i in range(42)] + [(i%7, 5, i//7 - 5) for i in range(42, 70, 1)]\n",
    "real_world_cordinate = np.array(real_world_cordinate, dtype=np.float32).reshape(70,3)\n",
    "\n",
    "imgs = []\n",
    "for x in range(1, 9):\n",
    "    img = cv2.imread(f\"photos/perspective{x}.jpg\")\n",
    "    gray = cv2.cvtColor(img, cv2.COLOR_BGR2GRAY)\n",
    "    ret, corners = cv2.findChessboardCorners(gray, CHECKERBOARD, None)\n",
    "    corners2 = cv2.cornerSubPix(gray, corners, (11,11),(-1,-1), criteria).reshape(70,2)\n",
    "    K, R, P = get_KRP(corners2, real_world_cordinate)\n",
    "    print(\"Perspective {}, k1 = {}, k2 = {}, k3 = {}, p1 = {}, p2 = {}\".format(x, K[0,0], K[1,1], K[2,2], K[0,2], K[1,2]))"
   ]
  },
  {
   "cell_type": "markdown",
   "metadata": {},
   "source": [
    "## Task 2\n",
    "Project a cube to the image and create the augmented reality video."
   ]
  },
  {
   "cell_type": "code",
   "execution_count": 74,
   "metadata": {},
   "outputs": [
    {
     "name": "stdout",
     "output_type": "stream",
     "text": [
      "mkdir: frames: File exists\n"
     ]
    }
   ],
   "source": [
    "# convert video to frames using ffmpeg\n",
    "!mkdir frames\n",
    "video_to_frames(\"video.mp4\", \"frames\")"
   ]
  },
  {
   "cell_type": "code",
   "execution_count": 84,
   "metadata": {},
   "outputs": [
    {
     "name": "stdout",
     "output_type": "stream",
     "text": [
      "mkdir: output: File exists\n"
     ]
    }
   ],
   "source": [
    "# iterate over xyz and draw circle on image\n",
    "!mkdir output\n",
    "criteria = (cv2.TERM_CRITERIA_EPS + cv2.TERM_CRITERIA_MAX_ITER, 30, 0.001)\n",
    "\n",
    "XYZ = np.array([[0,0,0],[0,1,0],[1,1,0],[1,0,0],[0,0,1],[1,0,1],[0,1,1],[1,1,1]], np.float32)\n",
    "ones = np.ones((XYZ.shape[0],XYZ.shape[1]+1), np.float32)\n",
    "ones[:,:-1] = XYZ*5\n",
    "XYZ = ones\n",
    "# print(XYZ.shape)\n",
    "\n",
    "for ind, path in enumerate(glob(\"frames/frame*.jpg\")):\n",
    "    img = cv2.imread(path)\n",
    "    gray = cv2.cvtColor(img,cv2.COLOR_BGR2GRAY)\n",
    "\n",
    "    retval, corners = cv2.findChessboardCorners(gray, CHECKERBOARD)\n",
    "    if retval:\n",
    "        \n",
    "        corners2 = cv2.cornerSubPix(gray, corners, (11,11),(-1,-1), criteria)\n",
    "        img = cv2.cvtColor(img, cv2.COLOR_BGR2RGB)\n",
    "        _, _, P = get_KRP(corners2.reshape(70,2), real_world_cordinate)\n",
    "        \n",
    "        xyz = XYZ @ P.T\n",
    "        xyz = xyz / xyz[:,2:]\n",
    "        \n",
    "        # connect the edges of the cube\n",
    "        cv2.line(img, (int(xyz[0,0]),int(xyz[0,1])), (int(xyz[1,0]),int(xyz[1,1])), (0,255,255), 3)\n",
    "        cv2.line(img, (int(xyz[1,0]),int(xyz[1,1])), (int(xyz[2,0]),int(xyz[2,1])), (0,255,255), 3)\n",
    "        cv2.line(img, (int(xyz[2,0]),int(xyz[2,1])), (int(xyz[3,0]),int(xyz[3,1])), (0,255,255), 3)\n",
    "        cv2.line(img, (int(xyz[3,0]),int(xyz[3,1])), (int(xyz[0,0]),int(xyz[0,1])), (0,255,255), 3)\n",
    "\n",
    "        cv2.line(img, (int(xyz[4,0]),int(xyz[4,1])), (int(xyz[5,0]),int(xyz[5,1])), (0,255,255), 3)\n",
    "        cv2.line(img, (int(xyz[5,0]),int(xyz[5,1])), (int(xyz[7,0]),int(xyz[7,1])), (0,255,255), 3)\n",
    "        cv2.line(img, (int(xyz[6,0]),int(xyz[6,1])), (int(xyz[7,0]),int(xyz[7,1])), (0,255,255), 3)\n",
    "        cv2.line(img, (int(xyz[6,0]),int(xyz[6,1])), (int(xyz[4,0]),int(xyz[4,1])), (0,255,255), 3)\n",
    "\n",
    "        cv2.line(img, (int(xyz[0,0]),int(xyz[0,1])), (int(xyz[4,0]),int(xyz[4,1])), (0,255,255), 3)\n",
    "        cv2.line(img, (int(xyz[1,0]),int(xyz[1,1])), (int(xyz[6,0]),int(xyz[6,1])), (0,255,255), 3)\n",
    "        cv2.line(img, (int(xyz[2,0]),int(xyz[2,1])), (int(xyz[7,0]),int(xyz[7,1])), (0,255,255), 3)\n",
    "        cv2.line(img, (int(xyz[3,0]),int(xyz[3,1])), (int(xyz[5,0]),int(xyz[5,1])), (0,255,255), 3)\n",
    "\n",
    "        # write to output\n",
    "        # convert image to BGR\n",
    "        img = cv2.cvtColor(img, cv2.COLOR_RGB2BGR)\n",
    "        cv2.imwrite(\"output/{}\".format(path.split(\"/\")[-1]), img)\n",
    "    else:\n",
    "        print(\"No corners found in {}\".format(path))"
   ]
  },
  {
   "cell_type": "code",
   "execution_count": 85,
   "metadata": {},
   "outputs": [],
   "source": [
    "# convert frames in output to video\n",
    "frame_to_video(\"output\", \"augmented_cube.mp4\", 60)"
   ]
  },
  {
   "cell_type": "code",
   "execution_count": 86,
   "metadata": {},
   "outputs": [],
   "source": [
    "# remove output and frames dir that were temporarily created\n",
    "!rm -rf output frames"
   ]
  }
 ],
 "metadata": {
  "kernelspec": {
   "display_name": "Python 3.9.12 ('base')",
   "language": "python",
   "name": "python3"
  },
  "language_info": {
   "codemirror_mode": {
    "name": "ipython",
    "version": 3
   },
   "file_extension": ".py",
   "mimetype": "text/x-python",
   "name": "python",
   "nbconvert_exporter": "python",
   "pygments_lexer": "ipython3",
   "version": "3.9.12"
  },
  "orig_nbformat": 4,
  "vscode": {
   "interpreter": {
    "hash": "7ee81389637e92e8d881787a3fa9b410c191c948601e1b7d4dc8db15cf49e3a1"
   }
  }
 },
 "nbformat": 4,
 "nbformat_minor": 2
}
